{
 "cells": [
  {
   "cell_type": "code",
   "execution_count": 13,
   "id": "5816c29b",
   "metadata": {},
   "outputs": [
    {
     "name": "stdout",
     "output_type": "stream",
     "text": [
      "x=1,y=2,z=3\n"
     ]
    }
   ],
   "source": [
    "#EXERCICE1\n",
    "\n",
    "class Point3D:\n",
    "    def __init__(self, x, y, z):\n",
    "        self.x= x\n",
    "        self.y= y\n",
    "        self.z= z\n",
    "    def mypoint(self):\n",
    "        return \"x={},y={},z={}\" .format(self.x, self.y, self.z)\n",
    "\n",
    "my_point = Point3D(1,2,3)\n",
    "print(my_point.mypoint())"
   ]
  },
  {
   "cell_type": "code",
   "execution_count": 29,
   "id": "450c6f68",
   "metadata": {},
   "outputs": [
    {
     "name": "stdout",
     "output_type": "stream",
     "text": [
      "perimeter= 14 area= 12\n"
     ]
    }
   ],
   "source": [
    "#EXERCICE2\n",
    "\n",
    "class Rectangle:\n",
    "    def __init__(self, l, w):\n",
    "            self.l= l\n",
    "            self.w= w\n",
    "    def pr(self):\n",
    "        p=2*(self.l+self.w)\n",
    "        return p\n",
    "    \n",
    "    def area(self):\n",
    "        r= self.l*self.w\n",
    "        return r\n",
    "    \n",
    "p = Rectangle(3,4)\n",
    "r = Rectangle(3,4)\n",
    "print(\"perimeter=\" ,p.pr() , \"area=\" ,r.area())"
   ]
  },
  {
   "cell_type": "code",
   "execution_count": null,
   "id": "ddb91c32",
   "metadata": {},
   "outputs": [],
   "source": [
    "from math import pi\n",
    "from math import sqrt\n",
    "x=int(input(\"x du point a:\"))\n",
    "y=int(input(\"y du point a:\"))\n",
    "X=int(input(\"x du point o:\"))\n",
    "Y=int(input(\"y du point o:\"))\n",
    "tple_a=(x,y)\n",
    "tole_o=(X,Y)\n",
    "r=int(input(\"le rayon est:\"))\n",
    "\n",
    "class Circle:\n",
    "    def __init__(self, o, r):\n",
    "        self.centre=o\n",
    "        self.rayon=r\n",
    "    def Area(self):\n",
    "        a=pi*(self.rayon**2)\n",
    "        return a\n",
    "    def perimetre(self):\n",
    "        p=2*pi*self.rayon\n",
    "        return p\n",
    "    def blg(self, a):\n",
    "        d=sqrt((x-X)**2+(y-Y)**2)\n",
    "        if r>=d:\n",
    "            return(\"belongs to the circle\")\n",
    "        else:\n",
    "            return(\"a doesnt belong to the circle\")\n",
    "a=Circle(tple_o,r)\n",
    "A=a.Area()\n",
    "B=a.perimetre()\n",
    "C=a.blg(tple_a)\n",
    "print(round(A), round(B), C)"
   ]
  },
  {
   "cell_type": "code",
   "execution_count": 45,
   "id": "80d78308",
   "metadata": {},
   "outputs": [
    {
     "name": "stdout",
     "output_type": "stream",
     "text": [
      "total amount:200\n",
      "deposited50\n",
      "withdrawed100\n",
      "Initialement:  200 après dépot:  250 après retrait:  150\n"
     ]
    }
   ],
   "source": [
    "#EXERCICE4\n",
    "\n",
    "class Bank:\n",
    "    def __init__(self, t):\n",
    "        self.total= t\n",
    "    def deposit(self, val):\n",
    "        self.total+=val\n",
    "        return self.total\n",
    "        \n",
    "    def withdraw(self, val):\n",
    "        if val>self.total:\n",
    "            print(\"impossible !\")\n",
    "        else:\n",
    "            self.total -=val\n",
    "        return self.total\n",
    "T=int(input(\"total amount:\"))\n",
    "X=int(input(\"deposited\"))\n",
    "Y=int(input(\"withdrawed\"))\n",
    "B=Bank(T)\n",
    "\n",
    "D= B.deposit(X)\n",
    "W= B.withdraw(Y)\n",
    "print(\"Initialement: \",T,\"après dépot: \",D,\"après retrait: \",W)"
   ]
  },
  {
   "cell_type": "code",
   "execution_count": null,
   "id": "c353710f",
   "metadata": {},
   "outputs": [],
   "source": []
  }
 ],
 "metadata": {
  "kernelspec": {
   "display_name": "Python 3",
   "language": "python",
   "name": "python3"
  },
  "language_info": {
   "codemirror_mode": {
    "name": "ipython",
    "version": 3
   },
   "file_extension": ".py",
   "mimetype": "text/x-python",
   "name": "python",
   "nbconvert_exporter": "python",
   "pygments_lexer": "ipython3",
   "version": "3.8.8"
  }
 },
 "nbformat": 4,
 "nbformat_minor": 5
}
