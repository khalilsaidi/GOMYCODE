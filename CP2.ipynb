{
 "cells": [
  {
   "cell_type": "code",
   "execution_count": 10,
   "id": "4d003e10",
   "metadata": {},
   "outputs": [
    {
     "name": "stdout",
     "output_type": "stream",
     "text": [
      "first name:khalil\n",
      "last name:saidi\n",
      "saidi khalil\n"
     ]
    }
   ],
   "source": [
    "x = input('first name:')\n",
    "y = input('last name:')\n",
    "c =y+\" \"+x\n",
    "print (c)"
   ]
  },
  {
   "cell_type": "code",
   "execution_count": 2,
   "id": "a98f506a",
   "metadata": {},
   "outputs": [
    {
     "name": "stdout",
     "output_type": "stream",
     "text": [
      "615\n"
     ]
    }
   ],
   "source": [
    "x = 5\n",
    "y = x*11\n",
    "z = x*111\n",
    "print (x + y + z)"
   ]
  },
  {
   "cell_type": "code",
   "execution_count": 5,
   "id": "1dbb8132",
   "metadata": {},
   "outputs": [
    {
     "name": "stdout",
     "output_type": "stream",
     "text": [
      "Enter any number: 2\n",
      "2 is EVEN\n"
     ]
    }
   ],
   "source": [
    "input_num = int(input('Enter any number: '))\n",
    "if input_num % 2 == 0:\n",
    "    print(input_num, \"is EVEN\")\n",
    "else:\n",
    "    print(input_num, \"is ODD\")"
   ]
  },
  {
   "cell_type": "code",
   "execution_count": null,
   "id": "28589896",
   "metadata": {},
   "outputs": [],
   "source": [
    "x = range(2000 ,3201)\n",
    "for n in x:\n",
    "  print(n)"
   ]
  },
  {
   "cell_type": "code",
   "execution_count": 7,
   "id": "2340c86c",
   "metadata": {},
   "outputs": [
    {
     "name": "stdout",
     "output_type": "stream",
     "text": [
      "factorial of:3\n",
      "factorial of  3  is =  6\n"
     ]
    }
   ],
   "source": [
    "a = int(input(\"factorial of:\"))\n",
    "import math\n",
    "print(\"factorial of \", a, \" is = \", math.factorial(a))"
   ]
  },
  {
   "cell_type": "code",
   "execution_count": 8,
   "id": "e8951d48",
   "metadata": {},
   "outputs": [
    {
     "name": "stdout",
     "output_type": "stream",
     "text": [
      "hlota\n"
     ]
    }
   ],
   "source": [
    "def odd_values_string(str):\n",
    "  result = \"\" \n",
    "  for i in range(len(str)):\n",
    "    if i % 2 == 0:\n",
    "      result = result + str[i]\n",
    "  return result\n",
    "\n",
    "print(odd_values_string('hello team'))"
   ]
  },
  {
   "cell_type": "code",
   "execution_count": 9,
   "id": "15ead713",
   "metadata": {},
   "outputs": [
    {
     "name": "stdout",
     "output_type": "stream",
     "text": [
      "amount520\n",
      "260.0\n"
     ]
    }
   ],
   "source": [
    "def getDiscount(amount):\n",
    "    if amount > 500:\n",
    "        return amount/2;\n",
    "    elif amount > 200:\n",
    "        return amount - amount/3\n",
    "    elif amount < 200:\n",
    "        return amount - amount/10;\n",
    "    else:\n",
    "            return 0\n",
    "price=int(input(\"amount\"))\n",
    "new_price=getDiscount(price)\n",
    "print(new_price)"
   ]
  }
 ],
 "metadata": {
  "kernelspec": {
   "display_name": "Python 3",
   "language": "python",
   "name": "python3"
  },
  "language_info": {
   "codemirror_mode": {
    "name": "ipython",
    "version": 3
   },
   "file_extension": ".py",
   "mimetype": "text/x-python",
   "name": "python",
   "nbconvert_exporter": "python",
   "pygments_lexer": "ipython3",
   "version": "3.8.8"
  }
 },
 "nbformat": 4,
 "nbformat_minor": 5
}
