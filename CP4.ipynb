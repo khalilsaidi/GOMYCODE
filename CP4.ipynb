{
 "cells": [
  {
   "cell_type": "code",
   "execution_count": 55,
   "id": "8994b694",
   "metadata": {},
   "outputs": [
    {
     "name": "stdout",
     "output_type": "stream",
     "text": [
      "35\n"
     ]
    }
   ],
   "source": [
    "x = max(20, 35, 19)\n",
    "print (x)"
   ]
  },
  {
   "cell_type": "code",
   "execution_count": 71,
   "id": "1fede328",
   "metadata": {},
   "outputs": [
    {
     "name": "stdout",
     "output_type": "stream",
     "text": [
      "(50, 30)\n"
     ]
    }
   ],
   "source": [
    "def result(n, m):\n",
    "    return n + m , n - m\n",
    "n = 40\n",
    "m = 10\n",
    "print(result(n,m)) "
   ]
  },
  {
   "cell_type": "code",
   "execution_count": 120,
   "id": "f50c89a7",
   "metadata": {},
   "outputs": [
    {
     "name": "stdout",
     "output_type": "stream",
     "text": [
      "11\n",
      "30\n"
     ]
    }
   ],
   "source": [
    "\n",
    "list1 = [1, 2, 3,5]\n",
    "\n",
    "def somme(l):\n",
    "    \n",
    "    total=0\n",
    "    for i in range(0, len(l)):\n",
    "        total = total + l[i]\n",
    "    return total\n",
    "t=somme(list1)       \n",
    "print( t)\n",
    "\n",
    "\n",
    "def multiplyList(myList) :    \n",
    "    result = 1\n",
    "    for x in myList:\n",
    "         result = result * x\n",
    "    return result\n",
    "print(multiplyList(list1))\n",
    "l_p =[1, 3]\n",
    "l_imp =[2, 5]\n",
    "\n",
    "somme()\n"
   ]
  },
  {
   "cell_type": "code",
   "execution_count": 1,
   "id": "8c5a04f9",
   "metadata": {},
   "outputs": [
    {
     "name": "stdout",
     "output_type": "stream",
     "text": [
      "how many numbers:4\n",
      "give the number:2\n",
      "give the number:3\n",
      "give the number:4\n",
      "give the number:5\n",
      "the sum is: 14\n",
      "the sum is: 120\n",
      "the sum of even numbers: 6\n",
      "the sum of even numbers: 15\n"
     ]
    }
   ],
   "source": [
    "num =int(input(\"how many numbers:\"))\n",
    "list=[]\n",
    "result=1\n",
    "for i in range (0,num):\n",
    "    e=int(input(\"give the number:\"))\n",
    "    list.append(e)\n",
    "print(\"the sum is:\",sum(list))\n",
    "for x in list:\n",
    "    result=x*result\n",
    "print(\"the sum is:\",result)\n",
    "def som(list):\n",
    "    s=0\n",
    "    for i in list:\n",
    "        s=s+i\n",
    "    return s\n",
    "def pro(list):\n",
    "    p=1\n",
    "    for i in list:\n",
    "        p=p*i\n",
    "    return p\n",
    "l1=[]\n",
    "l2=[]\n",
    "for i in range (0,len(list),2):\n",
    "    l1.append(list[i])\n",
    "    x=som(l1)\n",
    "print(\"the sum of even numbers:\" ,x)\n",
    "for i in range (1,len(list),2):\n",
    "    l2.append(list[i])\n",
    "    z=pro(l2)\n",
    "print(\"the sum of even numbers:\" ,z)\n",
    "    \n",
    "    \n"
   ]
  },
  {
   "cell_type": "code",
   "execution_count": 115,
   "id": "0fbe356f",
   "metadata": {},
   "outputs": [
    {
     "name": "stdout",
     "output_type": "stream",
     "text": [
      "green-red-yellow-black-white\n",
      "black-green-red-white-yellow\n"
     ]
    }
   ],
   "source": [
    "items=[n for n in input().split('-')]\n",
    "items.sort()\n",
    "print('-'.join(items))"
   ]
  },
  {
   "cell_type": "code",
   "execution_count": null,
   "id": "89508dc6",
   "metadata": {},
   "outputs": [],
   "source": []
  }
 ],
 "metadata": {
  "kernelspec": {
   "display_name": "Python 3",
   "language": "python",
   "name": "python3"
  },
  "language_info": {
   "codemirror_mode": {
    "name": "ipython",
    "version": 3
   },
   "file_extension": ".py",
   "mimetype": "text/x-python",
   "name": "python",
   "nbconvert_exporter": "python",
   "pygments_lexer": "ipython3",
   "version": "3.8.8"
  }
 },
 "nbformat": 4,
 "nbformat_minor": 5
}
