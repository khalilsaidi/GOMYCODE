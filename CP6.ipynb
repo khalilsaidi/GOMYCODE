{
 "cells": [
  {
   "cell_type": "code",
   "execution_count": 18,
   "id": "27b306d8",
   "metadata": {},
   "outputs": [],
   "source": [
    "import numpy as np"
   ]
  },
  {
   "cell_type": "code",
   "execution_count": 57,
   "id": "f6603e6e",
   "metadata": {},
   "outputs": [
    {
     "name": "stdout",
     "output_type": "stream",
     "text": [
      "[[11, 21], [31, 41]]\n"
     ]
    }
   ],
   "source": [
    "#EXERCICE1\n",
    "\n",
    "a = np.array([[11, 21], [31, 41]])  \n",
    "b=a.tolist()\n",
    "print (b)"
   ]
  },
  {
   "cell_type": "code",
   "execution_count": 52,
   "id": "9650153c",
   "metadata": {},
   "outputs": [
    {
     "name": "stdout",
     "output_type": "stream",
     "text": [
      "[[3 1 1]\n",
      " [1 3 3]\n",
      " [3 3 3]]\n",
      "9\n"
     ]
    }
   ],
   "source": [
    "#EXERCICE2\n",
    "\n",
    "x =np.random.randint(1,4, size=(3,3))\n",
    "print (x)\n",
    "trace = np.trace(x)\n",
    "print(trace)"
   ]
  },
  {
   "cell_type": "code",
   "execution_count": 68,
   "id": "7b966d00",
   "metadata": {},
   "outputs": [
    {
     "name": "stdout",
     "output_type": "stream",
     "text": [
      "Values bigger than 10 = [20 20 30 40]\n"
     ]
    }
   ],
   "source": [
    "#EXERCICE3\n",
    "\n",
    "x = np.array([[0, 10, 20], [20, 30, 40]])\n",
    "print(\"Values bigger than 10 =\", x[x>10])"
   ]
  },
  {
   "cell_type": "code",
   "execution_count": 56,
   "id": "61367779",
   "metadata": {},
   "outputs": [
    {
     "name": "stdout",
     "output_type": "stream",
     "text": [
      "[5 7 9]\n"
     ]
    }
   ],
   "source": [
    "#EXERCICE4\n",
    "\n",
    "A =np.array([1,2,3])\n",
    "B =np.array([4,5,6])\n",
    "C= x+y\n",
    "print(C)"
   ]
  },
  {
   "cell_type": "code",
   "execution_count": 64,
   "id": "77b1af55",
   "metadata": {},
   "outputs": [
    {
     "name": "stdout",
     "output_type": "stream",
     "text": [
      "number of rows:2\n",
      "number of columns2\n",
      "begin:2\n",
      "end:6\n",
      "[5 3]\n",
      "average: 4.0\n",
      "v 1.0\n",
      "v -1.0\n",
      "[5 4]\n",
      "average: 4.5\n",
      "v 0.5\n",
      "v -0.5\n"
     ]
    }
   ],
   "source": [
    "#EXERCICE5\n",
    "\n",
    "e =int(input(\"number of rows:\"))\n",
    "z =int(input(\"number of columns\"))\n",
    "x =int(input(\"begin:\"))\n",
    "w =int(input(\"end:\"))\n",
    "a =np.random.randint(x,w,size=(e,z))\n",
    "for i in a:\n",
    "    print(i)\n",
    "    y=i.mean()\n",
    "    print(\"average:\",y)\n",
    "    for j in i:\n",
    "        v=j-y\n",
    "        print(\"v\",v)"
   ]
  },
  {
   "cell_type": "code",
   "execution_count": null,
   "id": "cf94e6d0",
   "metadata": {},
   "outputs": [],
   "source": []
  }
 ],
 "metadata": {
  "kernelspec": {
   "display_name": "Python 3",
   "language": "python",
   "name": "python3"
  },
  "language_info": {
   "codemirror_mode": {
    "name": "ipython",
    "version": 3
   },
   "file_extension": ".py",
   "mimetype": "text/x-python",
   "name": "python",
   "nbconvert_exporter": "python",
   "pygments_lexer": "ipython3",
   "version": "3.8.8"
  }
 },
 "nbformat": 4,
 "nbformat_minor": 5
}
